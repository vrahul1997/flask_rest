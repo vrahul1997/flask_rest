{
 "metadata": {
  "language_info": {
   "codemirror_mode": {
    "name": "ipython",
    "version": 3
   },
   "file_extension": ".py",
   "mimetype": "text/x-python",
   "name": "python",
   "nbconvert_exporter": "python",
   "pygments_lexer": "ipython3",
   "version": "3.8.5-final"
  },
  "orig_nbformat": 2,
  "kernelspec": {
   "name": "python385jvsc74a57bd0f141592ea33f04c16a1d2fdf4b80259fd88b2faa2bd3699f31984405cbf30048",
   "display_name": "Python 3.8.5 64-bit ('test_env')"
  },
  "metadata": {
   "interpreter": {
    "hash": "f141592ea33f04c16a1d2fdf4b80259fd88b2faa2bd3699f31984405cbf30048"
   }
  }
 },
 "nbformat": 4,
 "nbformat_minor": 2,
 "cells": [
  {
   "cell_type": "code",
   "execution_count": 1,
   "metadata": {},
   "outputs": [],
   "source": [
    "from flask import request, jsonify\n",
    "from functools import wraps\n",
    "\n",
    "def jwt_required(realm=None):\n",
    "    def wrapper(f):\n",
    "        @wraps(f)\n",
    "        def decorator(*args, **kwargs):\n",
    "            if request.headers is not None:\n",
    "                return jsonify({\"message\": \"JWT is present\"})\n",
    "            else:\n",
    "                return jsonify({\"message\": \"JWT not present\"})\n",
    "        return decorator\n",
    "    return wrapper\n"
   ]
  },
  {
   "cell_type": "code",
   "execution_count": 9,
   "metadata": {},
   "outputs": [
    {
     "output_type": "stream",
     "name": "stdout",
     "text": [
      "{'name': 'rahulll', 'price': 'puneetha'}\n"
     ]
    }
   ],
   "source": [
    "items = [{\"name\": \"rahulll\", \"price\": \"puneetha\"}]\n",
    "item = next(filter(lambda x: x[\"name\"] == \"rahulll\", items), None)  # next should always be combined with default value\n",
    "print(item)"
   ]
  },
  {
   "cell_type": "code",
   "execution_count": 4,
   "metadata": {},
   "outputs": [
    {
     "output_type": "stream",
     "name": "stdout",
     "text": [
      "hello\n"
     ]
    }
   ],
   "source": [
    "print(\"hello\")"
   ]
  },
  {
   "cell_type": "code",
   "execution_count": 10,
   "metadata": {},
   "outputs": [],
   "source": [
    "from user import UserModel"
   ]
  },
  {
   "cell_type": "code",
   "execution_count": null,
   "metadata": {},
   "outputs": [],
   "source": []
  }
 ]
}